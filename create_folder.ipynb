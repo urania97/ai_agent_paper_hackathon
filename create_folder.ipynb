{
 "cells": [
  {
   "cell_type": "code",
   "execution_count": 1,
   "id": "1ccf4ce7-4ebb-4697-a37f-03974fd97539",
   "metadata": {},
   "outputs": [],
   "source": [
    "import os\n",
    "\n",
    "base_dir = r\"C:\\Users\\10726\\ai_agent_project\"\n",
    "\n",
    "folders = [\n",
    "    \"app\",\n",
    "    \"app/api\",\n",
    "    \"app/core\",\n",
    "    \"app/models\",\n",
    "    \"app/services\",\n",
    "    \"app/utils\"\n",
    "]\n",
    "\n",
    "files = [\n",
    "    \"main.py\",\n",
    "    \"requirements.txt\",\n",
    "    \"app/__init__.py\",\n",
    "    \"app/api/endpoints.py\",\n",
    "    \"app/core/config.py\",\n",
    "    \"app/models/schemas.py\",\n",
    "    \"app/services/pdf_parser.py\",\n",
    "    \"app/utils/helpers.py\"\n",
    "]\n",
    "\n",
    "# 创建文件夹\n",
    "for folder in folders:\n",
    "    path = os.path.join(base_dir, folder)\n",
    "    os.makedirs(path, exist_ok=True)\n",
    "\n",
    "# 创建空文件\n",
    "for file in files:\n",
    "    path = os.path.join(base_dir, file)\n",
    "    with open(path, \"w\", encoding=\"utf-8\") as f:\n",
    "        f.write(\"# \" + file.split(\"/\")[-1] + \"\\n\")\n"
   ]
  },
  {
   "cell_type": "code",
   "execution_count": null,
   "id": "8eb6d53a-7f83-4afb-b22d-37d09403f832",
   "metadata": {},
   "outputs": [],
   "source": []
  }
 ],
 "metadata": {
  "kernelspec": {
   "display_name": "Python (AI Agent)",
   "language": "python",
   "name": "ai_agent_env"
  },
  "language_info": {
   "codemirror_mode": {
    "name": "ipython",
    "version": 3
   },
   "file_extension": ".py",
   "mimetype": "text/x-python",
   "name": "python",
   "nbconvert_exporter": "python",
   "pygments_lexer": "ipython3",
   "version": "3.10.16"
  }
 },
 "nbformat": 4,
 "nbformat_minor": 5
}
